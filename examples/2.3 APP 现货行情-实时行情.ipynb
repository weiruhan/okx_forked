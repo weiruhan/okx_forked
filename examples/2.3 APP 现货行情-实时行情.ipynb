{
 "cells": [
  {
   "cell_type": "markdown",
   "id": "c8115487",
   "metadata": {},
   "source": [
    "## 1. APP 现货行情-实时行情函数总览"
   ]
  },
  {
   "cell_type": "markdown",
   "id": "a45c0ad3",
   "metadata": {},
   "source": [
    "|方法|解释|\n",
    "|:---|:---|\n",
    "|get_ticker|获取一个产品的行情信息|\n",
    "|get_tickers|获取全部产品的行情信息（列表格式）|\n",
    "|get_tickersMap|获取全部产品的行情信息 （字典格式）|\n",
    "|get_books|获取产品深度|\n",
    "|get_books_lite|获取产品轻量深度|"
   ]
  },
  {
   "cell_type": "code",
   "execution_count": 1,
   "id": "2e9a8b20",
   "metadata": {},
   "outputs": [],
   "source": [
    "from okx.app import OkxSPOT\n",
    "from okx.app.utils import eprint"
   ]
  },
  {
   "cell_type": "markdown",
   "id": "66b57010",
   "metadata": {},
   "source": [
    "## 2. 模型实例化"
   ]
  },
  {
   "cell_type": "code",
   "execution_count": 2,
   "id": "f815f042",
   "metadata": {},
   "outputs": [],
   "source": [
    "# 现货行情不需要秘钥\n",
    "key = \"\"\n",
    "secret = \"\"\n",
    "passphrase = \"\"\n",
    "# 使用http和https代理，proxies={'http':'xxxxx','https:':'xxxxx'}，与requests中的proxies参数规则相同\n",
    "proxies = {}\n",
    "# 转发：需搭建转发服务器，可参考：https://github.com/pyted/okx_resender\n",
    "proxy_host = None\n",
    "\n",
    "# okxSPOT.market 等同于 marketSPOT\n",
    "okxSPOT = OkxSPOT(\n",
    "    key=key, secret=secret, passphrase=passphrase, proxies=proxies, proxy_host=proxy_host,\n",
    ")\n",
    "market = okxSPOT.market"
   ]
  },
  {
   "cell_type": "markdown",
   "id": "7c74498c",
   "metadata": {},
   "source": [
    "## 3. 获取一个产品的行情信息 get_ticker"
   ]
  },
  {
   "cell_type": "code",
   "execution_count": 3,
   "id": "7c73bf99",
   "metadata": {},
   "outputs": [
    {
     "name": "stdout",
     "output_type": "stream",
     "text": [
      "{'code': '0',\n",
      " 'msg': '',\n",
      " 'data': {'instType': 'SPOT',\n",
      "          'instId': 'BTC-USDT',\n",
      "          'last': '41768.7',\n",
      "          'lastSz': '0.00746376',\n",
      "          'askPx': '41766.2',\n",
      "          'askSz': '0.83865914',\n",
      "          'bidPx': '41766.1',\n",
      "          'bidSz': '0.04625856',\n",
      "          'open24h': '40883.9',\n",
      "          'high24h': '42249.9',\n",
      "          'low24h': '40833',\n",
      "          'volCcy24h': '664291331.348019496',\n",
      "          'vol24h': '15958.29671021',\n",
      "          'ts': '1706354701908',\n",
      "          'sodUtc0': '41820.5',\n",
      "          'sodUtc8': '41418.1'}}\n"
     ]
    }
   ],
   "source": [
    "ticker_result = market.get_ticker(instId='BTC-USDT')\n",
    "eprint(ticker_result)"
   ]
  },
  {
   "cell_type": "markdown",
   "id": "75824d79",
   "metadata": {},
   "source": [
    "## 4. 获取全部产品的行情信息（列表格式） get_tickers"
   ]
  },
  {
   "cell_type": "code",
   "execution_count": 4,
   "id": "0db7310d",
   "metadata": {},
   "outputs": [
    {
     "name": "stdout",
     "output_type": "stream",
     "text": [
      "{'code': '0',\n",
      " 'msg': '',\n",
      " 'data': [{'instType': 'SPOT',\n",
      "           'instId': 'MDT-USDT',\n",
      "           'last': '0.05041',\n",
      "           'lastSz': '435.442376',\n",
      "           'askPx': '0.05052',\n",
      "           'askSz': '438.737371',\n",
      "           'bidPx': '0.05042',\n",
      "           'bidSz': '480',\n",
      "           'open24h': '0.04886',\n",
      "           'high24h': '0.05076',\n",
      "           '...': '......'},\n",
      "          {'instType': 'SPOT',\n",
      "           'instId': '1INCH-EUR',\n",
      "           'last': '0.3472',\n",
      "           'lastSz': '52.787154',\n",
      "           'askPx': '0.357',\n",
      "           'askSz': '1291.656333',\n",
      "           'bidPx': '0.3557',\n",
      "           'bidSz': '1296.377034',\n",
      "           'open24h': '0.3472',\n",
      "           'high24h': '0.3472',\n",
      "           '...': '......'},\n",
      "          {'instType': 'SPOT',\n",
      "           'instId': 'LUNA-USDC',\n",
      "           'last': '0.6501',\n",
      "           'lastSz': '107',\n",
      "           'askPx': '0.6506',\n",
      "           'askSz': '965.0477',\n",
      "           'bidPx': '0.6499',\n",
      "           'bidSz': '490.024',\n",
      "           'open24h': '0.5999',\n",
      "           'high24h': '0.7018',\n",
      "           '...': '......'},\n",
      "          '......']}\n"
     ]
    }
   ],
   "source": [
    "# 参数：instIds 产品列表 默认值为[] 表示全部产品\n",
    "tickers_result = market.get_tickers()\n",
    "eprint(tickers_result, data_length=3, length=10)"
   ]
  },
  {
   "cell_type": "code",
   "execution_count": 5,
   "id": "f99e95cb",
   "metadata": {},
   "outputs": [
    {
     "name": "stdout",
     "output_type": "stream",
     "text": [
      "{'code': '0',\n",
      " 'msg': '',\n",
      " 'data': [{'instType': 'SPOT',\n",
      "           'instId': 'BTC-USDT',\n",
      "           'last': '41762.1',\n",
      "           'lastSz': '0.00115371',\n",
      "           'askPx': '41762.2',\n",
      "           'askSz': '0.4260692',\n",
      "           'bidPx': '41762.1',\n",
      "           'bidSz': '0.45293541',\n",
      "           'open24h': '40883.9',\n",
      "           'high24h': '42249.9',\n",
      "           '...': '......'},\n",
      "          {'instType': 'SPOT',\n",
      "           'instId': 'ETH-USDT',\n",
      "           'last': '2265.36',\n",
      "           'lastSz': '0.088286',\n",
      "           'askPx': '2265.36',\n",
      "           'askSz': '2.632027',\n",
      "           'bidPx': '2265.35',\n",
      "           'bidSz': '1.7707',\n",
      "           'open24h': '2248.6',\n",
      "           'high24h': '2283.28',\n",
      "           '...': '......'}]}\n"
     ]
    }
   ],
   "source": [
    "# 限制产品列表\n",
    "tickers_result = market.get_tickers(instIds=['BTC-USDT', 'ETH-USDT'])\n",
    "eprint(tickers_result, data_length=3, length=10)"
   ]
  },
  {
   "cell_type": "markdown",
   "id": "e48dc7ff",
   "metadata": {},
   "source": [
    "## 5. 获取全部产品的行情信息 （字典格式） get_tickersMap"
   ]
  },
  {
   "cell_type": "code",
   "execution_count": 6,
   "id": "6de25963",
   "metadata": {},
   "outputs": [
    {
     "name": "stdout",
     "output_type": "stream",
     "text": [
      "{'code': '0',\n",
      " 'msg': '',\n",
      " 'data': {'MDT-USDT': {'instType': 'SPOT',\n",
      "                       'instId': 'MDT-USDT',\n",
      "                       'last': '0.05041',\n",
      "                       'lastSz': '435.442376',\n",
      "                       'askPx': '0.05052',\n",
      "                       'askSz': '438.737371',\n",
      "                       'bidPx': '0.05042',\n",
      "                       'bidSz': '480',\n",
      "                       'open24h': '0.04886',\n",
      "                       'high24h': '0.05076',\n",
      "                       '...': '......'},\n",
      "          '1INCH-EUR': {'instType': 'SPOT',\n",
      "                        'instId': '1INCH-EUR',\n",
      "                        'last': '0.3472',\n",
      "                        'lastSz': '52.787154',\n",
      "                        'askPx': '0.3569',\n",
      "                        'askSz': '1292.018243',\n",
      "                        'bidPx': '0.3556',\n",
      "                        'bidSz': '1296.741594',\n",
      "                        'open24h': '0.3472',\n",
      "                        'high24h': '0.3472',\n",
      "                        '...': '......'},\n",
      "          'LUNA-USDC': {'instType': 'SPOT',\n",
      "                        'instId': 'LUNA-USDC',\n",
      "                        'last': '0.6501',\n",
      "                        'lastSz': '107',\n",
      "                        'askPx': '0.6504',\n",
      "                        'askSz': '415.3337',\n",
      "                        'bidPx': '0.6495',\n",
      "                        'bidSz': '490.024',\n",
      "                        'open24h': '0.5999',\n",
      "                        'high24h': '0.7018',\n",
      "                        '...': '......'},\n",
      "          'OAS-USDT': {'instType': 'SPOT',\n",
      "                       'instId': 'OAS-USDT',\n",
      "                       'last': '0.10296',\n",
      "                       'lastSz': '130',\n",
      "                       'askPx': '0.10296',\n",
      "                       'askSz': '2.09',\n",
      "                       'bidPx': '0.10295',\n",
      "                       'bidSz': '393.82',\n",
      "                       'open24h': '0.10171',\n",
      "                       'high24h': '0.10747',\n",
      "                       '...': '......'},\n",
      "          '...': '......'}}\n"
     ]
    }
   ],
   "source": [
    "# 参数：instIds 产品列表 默认值为[] 表示全部产品\n",
    "tickersMap = market.get_tickersMap()\n",
    "eprint(tickersMap, data_length=3, length=10)"
   ]
  },
  {
   "cell_type": "code",
   "execution_count": 7,
   "id": "b77afabf",
   "metadata": {},
   "outputs": [
    {
     "name": "stdout",
     "output_type": "stream",
     "text": [
      "{'code': '0',\n",
      " 'msg': '',\n",
      " 'data': {'BTC-USDT': {'instType': 'SPOT',\n",
      "                       'instId': 'BTC-USDT',\n",
      "                       'last': '41762.1',\n",
      "                       'lastSz': '0.0043938',\n",
      "                       'askPx': '41762.2',\n",
      "                       'askSz': '1.4582292',\n",
      "                       'bidPx': '41762.1',\n",
      "                       'bidSz': '0.00312335',\n",
      "                       'open24h': '40883.9',\n",
      "                       'high24h': '42249.9',\n",
      "                       '...': '......'},\n",
      "          'ETH-USDT': {'instType': 'SPOT',\n",
      "                       'instId': 'ETH-USDT',\n",
      "                       'last': '2265.35',\n",
      "                       'lastSz': '0.039',\n",
      "                       'askPx': '2265.36',\n",
      "                       'askSz': '5.701348',\n",
      "                       'bidPx': '2265.35',\n",
      "                       'bidSz': '0.795058',\n",
      "                       'open24h': '2248.6',\n",
      "                       'high24h': '2283.28',\n",
      "                       '...': '......'}}}\n"
     ]
    }
   ],
   "source": [
    "# 限制产品列表\n",
    "tickersMap = market.get_tickersMap(instIds=['BTC-USDT', 'ETH-USDT'])\n",
    "eprint(tickersMap, data_length=3, length=10)"
   ]
  },
  {
   "cell_type": "markdown",
   "id": "0dfebd89",
   "metadata": {},
   "source": [
    "## 6. 获取产品深度 get_books"
   ]
  },
  {
   "cell_type": "code",
   "execution_count": 8,
   "id": "31619789",
   "metadata": {},
   "outputs": [
    {
     "name": "stdout",
     "output_type": "stream",
     "text": [
      "{'code': '0',\n",
      " 'msg': '',\n",
      " 'data': {'asks': [['41760.2', '1.84798172', '0', '15']],\n",
      "          'bids': [['41760.1', '0.04886452', '0', '3']],\n",
      "          'ts': '1706354722653'}}\n"
     ]
    }
   ],
   "source": [
    "books_result = market.get_books(instId='BTC-USDT')\n",
    "eprint(books_result)"
   ]
  },
  {
   "cell_type": "markdown",
   "id": "84665e06",
   "metadata": {},
   "source": [
    "## 7. 获取产品轻量深度 get_books_lite"
   ]
  },
  {
   "cell_type": "code",
   "execution_count": null,
   "id": "90604f51",
   "metadata": {},
   "outputs": [
    {
     "name": "stdout",
     "output_type": "stream",
     "text": [
      "{'code': '0',\n",
      " 'msg': '',\n",
      " 'data': {'asks': [['41760.2', '1.84798172', '0', '15'],\n",
      "                   ['41760.3', '0.1', '0', '1'],\n",
      "                   ['41761.2', '0.32672901', '0', '2'],\n",
      "                   ['41761.3', '0.1', '0', '1'],\n",
      "                   ['41761.8', '0.00401642', '0', '1'],\n",
      "                   '......'],\n",
      "          'bids': [['41760.1', '0.04886452', '0', '3'],\n",
      "                   ['41758.5', '0.04669706', '0', '1'],\n",
      "                   ['41758.1', '0.1053871', '0', '1'],\n",
      "                   ['41758', '0.2293', '0', '1'],\n",
      "                   ['41757', '0.02742556', '0', '1'],\n",
      "                   '......'],\n",
      "          'ts': '1706354722983'}}\n"
     ]
    }
   ],
   "source": [
    "get_books_full_result = market.get_books_full(instId='BTC-USDT')\n",
    "eprint(get_books_full_result)"
   ]
  }
 ],
 "metadata": {
  "kernelspec": {
   "display_name": "Python 3 (ipykernel)",
   "language": "python",
   "name": "python3"
  },
  "language_info": {
   "codemirror_mode": {
    "name": "ipython",
    "version": 3
   },
   "file_extension": ".py",
   "mimetype": "text/x-python",
   "name": "python",
   "nbconvert_exporter": "python",
   "pygments_lexer": "ipython3",
   "version": "3.8.4"
  }
 },
 "nbformat": 4,
 "nbformat_minor": 5
}
