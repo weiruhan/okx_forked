{
 "cells": [
  {
   "cell_type": "markdown",
   "id": "f1cb51cc",
   "metadata": {},
   "source": [
    "## 1. APP 永续合约行情-实时行情函数总览"
   ]
  },
  {
   "cell_type": "markdown",
   "id": "6664866f",
   "metadata": {},
   "source": [
    "|方法|解释|\n",
    "|:---|:---|\n",
    "|get_ticker|获取一个产品的行情信息|\n",
    "|get_tickers|获取全部产品的行情信息（列表格式）|\n",
    "|get_tickersMap|获取全部产品的行情信息 （字典格式）|\n",
    "|get_books|获取产品深度|\n",
    "|get_books_lite|获取产品轻量深度|"
   ]
  },
  {
   "cell_type": "code",
   "execution_count": 4,
   "id": "1ceb1d89",
   "metadata": {},
   "outputs": [],
   "source": [
    "from okx.app import OkxSWAP\n",
    "from okx.app.utils import eprint"
   ]
  },
  {
   "cell_type": "markdown",
   "id": "0c037d65",
   "metadata": {},
   "source": [
    "## 2. 模型实例化"
   ]
  },
  {
   "cell_type": "code",
   "execution_count": 2,
   "id": "3648c75c",
   "metadata": {},
   "outputs": [
    {
     "name": "stdout",
     "output_type": "stream",
     "text": [
      "[FAILURE] 设置持仓方式为双向持仓失败，请手动设置：posMode=\"long_short_mode\"\n"
     ]
    }
   ],
   "source": [
    "# 永续合约行情不需要秘钥\n",
    "key = \"\"\n",
    "secret = \"\"\n",
    "passphrase = \"\"\n",
    "# 使用http和https代理，proxies={'http':'xxxxx','https:':'xxxxx'}，与requests中的proxies参数规则相同\n",
    "proxies = {}\n",
    "# 转发：需搭建转发服务器，可参考：https://github.com/pyted/okx_resender\n",
    "proxy_host = None\n",
    "\n",
    "# okxSPOT.market 等同于 marketSPOT\n",
    "okxSWAP = OkxSWAP(\n",
    "    key=key, secret=secret, passphrase=passphrase, proxies=proxies, proxy_host=proxy_host,\n",
    ")\n",
    "market = okxSWAP.market\n",
    "# 如果有挂单或持仓，会提示“设置持仓方式为双向持仓失败”，如果你的持仓模式已经是双向持仓，可以忽略这个警告"
   ]
  },
  {
   "cell_type": "markdown",
   "id": "90fc3e1e",
   "metadata": {},
   "source": [
    "## 3. 获取一个产品的行情信息 get_ticker"
   ]
  },
  {
   "cell_type": "code",
   "execution_count": 3,
   "id": "92f61d41",
   "metadata": {},
   "outputs": [
    {
     "name": "stdout",
     "output_type": "stream",
     "text": [
      "{'code': '0',\n",
      " 'msg': '',\n",
      " 'data': {'instType': 'SWAP',\n",
      "          'instId': 'BTC-USDT-SWAP',\n",
      "          'last': '42352.2',\n",
      "          'lastSz': '10',\n",
      "          'askPx': '42352.2',\n",
      "          'askSz': '640',\n",
      "          'bidPx': '42352.1',\n",
      "          'bidSz': '64',\n",
      "          'open24h': '41623.7',\n",
      "          'high24h': '42849.6',\n",
      "          'low24h': '41376',\n",
      "          'volCcy24h': '68154.28',\n",
      "          'vol24h': '6815428',\n",
      "          'ts': '1706429116408',\n",
      "          'sodUtc0': '42118.6',\n",
      "          'sodUtc8': '41819.9'}}\n"
     ]
    }
   ],
   "source": [
    "ticker_result = market.get_ticker(instId='BTC-USDT-SWAP')\n",
    "eprint(ticker_result)"
   ]
  },
  {
   "cell_type": "markdown",
   "id": "026536ee",
   "metadata": {},
   "source": [
    "## 4. 获取全部产品的行情信息（列表格式） get_tickers"
   ]
  },
  {
   "cell_type": "code",
   "execution_count": 4,
   "id": "199268bc",
   "metadata": {},
   "outputs": [
    {
     "name": "stdout",
     "output_type": "stream",
     "text": [
      "{'code': '0',\n",
      " 'msg': '',\n",
      " 'data': [{'instType': 'SWAP',\n",
      "           'instId': 'CETUS-USDT-SWAP',\n",
      "           'last': '0.11481',\n",
      "           'lastSz': '28',\n",
      "           'askPx': '0.11489',\n",
      "           'askSz': '27',\n",
      "           'bidPx': '0.11475',\n",
      "           'bidSz': '265',\n",
      "           'open24h': '0.11208',\n",
      "           'high24h': '0.12105',\n",
      "           '...': '......'},\n",
      "          {'instType': 'SWAP',\n",
      "           'instId': 'SUSHI-USDT-SWAP',\n",
      "           'last': '1.107',\n",
      "           'lastSz': '5',\n",
      "           'askPx': '1.1067',\n",
      "           'askSz': '2',\n",
      "           'bidPx': '1.1065',\n",
      "           'bidSz': '112',\n",
      "           'open24h': '1.0951',\n",
      "           'high24h': '1.1414',\n",
      "           '...': '......'},\n",
      "          {'instType': 'SWAP',\n",
      "           'instId': 'XLM-USDT-SWAP',\n",
      "           'last': '0.1154',\n",
      "           'lastSz': '1',\n",
      "           'askPx': '0.1154',\n",
      "           'askSz': '1236',\n",
      "           'bidPx': '0.1153',\n",
      "           'bidSz': '1160',\n",
      "           'open24h': '0.1159',\n",
      "           'high24h': '0.117',\n",
      "           '...': '......'},\n",
      "          '......']}\n"
     ]
    }
   ],
   "source": [
    "# 参数：instIds 产品列表 默认值为[] 表示全部产品\n",
    "tickers_result = market.get_tickers()\n",
    "eprint(tickers_result, data_length=3, length=10)"
   ]
  },
  {
   "cell_type": "code",
   "execution_count": 5,
   "id": "2d5c7ff2",
   "metadata": {},
   "outputs": [
    {
     "name": "stdout",
     "output_type": "stream",
     "text": [
      "{'code': '0',\n",
      " 'msg': '',\n",
      " 'data': [{'instType': 'SWAP',\n",
      "           'instId': 'ETH-USDT-SWAP',\n",
      "           'last': '2279.7',\n",
      "           'lastSz': '39',\n",
      "           'askPx': '2279.71',\n",
      "           'askSz': '303',\n",
      "           'bidPx': '2279.7',\n",
      "           'bidSz': '297',\n",
      "           'open24h': '2256',\n",
      "           'high24h': '2309',\n",
      "           '...': '......'},\n",
      "          {'instType': 'SWAP',\n",
      "           'instId': 'BTC-USDT-SWAP',\n",
      "           'last': '42350',\n",
      "           'lastSz': '6',\n",
      "           'askPx': '42350.1',\n",
      "           'askSz': '625',\n",
      "           'bidPx': '42350',\n",
      "           'bidSz': '355',\n",
      "           'open24h': '41623.7',\n",
      "           'high24h': '42849.6',\n",
      "           '...': '......'}]}\n"
     ]
    }
   ],
   "source": [
    "# 限制产品列表\n",
    "tickers_result = market.get_tickers(instIds=['BTC-USDT-SWAP', 'ETH-USDT-SWAP'])\n",
    "eprint(tickers_result, data_length=3, length=10)"
   ]
  },
  {
   "cell_type": "markdown",
   "id": "39eea88f",
   "metadata": {},
   "source": [
    "## 5. 获取全部产品的行情信息 （字典格式） get_tickersMap"
   ]
  },
  {
   "cell_type": "code",
   "execution_count": 6,
   "id": "0d863f2f",
   "metadata": {},
   "outputs": [
    {
     "name": "stdout",
     "output_type": "stream",
     "text": [
      "{'code': '0',\n",
      " 'msg': '',\n",
      " 'data': {'CETUS-USDT-SWAP': {'instType': 'SWAP',\n",
      "                              'instId': 'CETUS-USDT-SWAP',\n",
      "                              'last': '0.11477',\n",
      "                              'lastSz': '1',\n",
      "                              'askPx': '0.11486',\n",
      "                              'askSz': '35',\n",
      "                              'bidPx': '0.11472',\n",
      "                              'bidSz': '1',\n",
      "                              'open24h': '0.11208',\n",
      "                              'high24h': '0.12105',\n",
      "                              '...': '......'},\n",
      "          'SUSHI-USDT-SWAP': {'instType': 'SWAP',\n",
      "                              'instId': 'SUSHI-USDT-SWAP',\n",
      "                              'last': '1.1065',\n",
      "                              'lastSz': '22',\n",
      "                              'askPx': '1.1065',\n",
      "                              'askSz': '248',\n",
      "                              'bidPx': '1.106',\n",
      "                              'bidSz': '321',\n",
      "                              'open24h': '1.0951',\n",
      "                              'high24h': '1.1414',\n",
      "                              '...': '......'},\n",
      "          'XLM-USDT-SWAP': {'instType': 'SWAP',\n",
      "                            'instId': 'XLM-USDT-SWAP',\n",
      "                            'last': '0.1154',\n",
      "                            'lastSz': '1',\n",
      "                            'askPx': '0.1154',\n",
      "                            'askSz': '1270',\n",
      "                            'bidPx': '0.1153',\n",
      "                            'bidSz': '977',\n",
      "                            'open24h': '0.1159',\n",
      "                            'high24h': '0.117',\n",
      "                            '...': '......'},\n",
      "          'CRO-USDT-SWAP': {'instType': 'SWAP',\n",
      "                            'instId': 'CRO-USDT-SWAP',\n",
      "                            'last': '0.08176',\n",
      "                            'lastSz': '10',\n",
      "                            'askPx': '0.08177',\n",
      "                            'askSz': '1000',\n",
      "                            'bidPx': '0.08176',\n",
      "                            'bidSz': '143',\n",
      "                            'open24h': '0.0809',\n",
      "                            'high24h': '0.08299',\n",
      "                            '...': '......'},\n",
      "          '...': '......'}}\n"
     ]
    }
   ],
   "source": [
    "# 参数：instIds 产品列表 默认值为[] 表示全部产品\n",
    "tickersMap = market.get_tickersMap()\n",
    "eprint(tickersMap, data_length=3, length=10)"
   ]
  },
  {
   "cell_type": "code",
   "execution_count": 7,
   "id": "c8f13e21",
   "metadata": {},
   "outputs": [
    {
     "name": "stdout",
     "output_type": "stream",
     "text": [
      "{'code': '0',\n",
      " 'msg': '',\n",
      " 'data': {'ETH-USDT-SWAP': {'instType': 'SWAP',\n",
      "                            'instId': 'ETH-USDT-SWAP',\n",
      "                            'last': '2279.17',\n",
      "                            'lastSz': '17',\n",
      "                            'askPx': '2279.18',\n",
      "                            'askSz': '503',\n",
      "                            'bidPx': '2279.17',\n",
      "                            'bidSz': '683',\n",
      "                            'open24h': '2256',\n",
      "                            'high24h': '2309',\n",
      "                            '...': '......'},\n",
      "          'BTC-USDT-SWAP': {'instType': 'SWAP',\n",
      "                            'instId': 'BTC-USDT-SWAP',\n",
      "                            'last': '42350',\n",
      "                            'lastSz': '5',\n",
      "                            'askPx': '42350.1',\n",
      "                            'askSz': '382',\n",
      "                            'bidPx': '42350',\n",
      "                            'bidSz': '342',\n",
      "                            'open24h': '41623.7',\n",
      "                            'high24h': '42849.6',\n",
      "                            '...': '......'}}}\n"
     ]
    }
   ],
   "source": [
    "# 限制产品列表\n",
    "tickersMap = market.get_tickersMap(instIds=['BTC-USDT-SWAP', 'ETH-USDT-SWAP'])\n",
    "eprint(tickersMap, data_length=3, length=10)"
   ]
  },
  {
   "cell_type": "markdown",
   "id": "d426ac6b",
   "metadata": {},
   "source": [
    "## 6. 获取产品深度 get_books"
   ]
  },
  {
   "cell_type": "code",
   "execution_count": 8,
   "id": "5fccc585",
   "metadata": {},
   "outputs": [
    {
     "name": "stdout",
     "output_type": "stream",
     "text": [
      "{'code': '0',\n",
      " 'msg': '',\n",
      " 'data': {'asks': [['42350.1', '498', '0', '15']], 'bids': [['42350', '383', '0', '30']], 'ts': '1706429128854'}}\n"
     ]
    }
   ],
   "source": [
    "books_result = market.get_books(instId='BTC-USDT-SWAP')\n",
    "eprint(books_result)"
   ]
  },
  {
   "cell_type": "markdown",
   "id": "47d95595",
   "metadata": {},
   "source": [
    "## 7. 获取产品轻量深度 get_books_lite"
   ]
  },
  {
   "cell_type": "code",
   "execution_count": null,
   "id": "67a7cb42",
   "metadata": {},
   "outputs": [
    {
     "name": "stdout",
     "output_type": "stream",
     "text": [
      "{'code': '0',\n",
      " 'msg': '',\n",
      " 'data': {'asks': [['42350.1', '333', '0', '11'],\n",
      "                   ['42350.2', '1', '0', '1'],\n",
      "                   ['42350.4', '1', '0', '1'],\n",
      "                   ['42351.3', '5', '0', '1'],\n",
      "                   ['42352', '26', '0', '1'],\n",
      "                   '......'],\n",
      "          'bids': [['42350', '420', '0', '33'],\n",
      "                   ['42349.9', '1', '0', '1'],\n",
      "                   ['42349.5', '1', '0', '1'],\n",
      "                   ['42348.8', '1', '0', '1'],\n",
      "                   ['42348.4', '1', '0', '1'],\n",
      "                   '......'],\n",
      "          'ts': '1706429129164'}}\n"
     ]
    }
   ],
   "source": [
    "get_books_full_result = market.get_books_full(instId='BTC-USDT-SWAP')\n",
    "eprint(get_books_full_result)"
   ]
  }
 ],
 "metadata": {
  "kernelspec": {
   "display_name": "quant",
   "language": "python",
   "name": "python3"
  },
  "language_info": {
   "codemirror_mode": {
    "name": "ipython",
    "version": 3
   },
   "file_extension": ".py",
   "mimetype": "text/x-python",
   "name": "python",
   "nbconvert_exporter": "python",
   "pygments_lexer": "ipython3",
   "version": "3.11.11"
  }
 },
 "nbformat": 4,
 "nbformat_minor": 5
}
